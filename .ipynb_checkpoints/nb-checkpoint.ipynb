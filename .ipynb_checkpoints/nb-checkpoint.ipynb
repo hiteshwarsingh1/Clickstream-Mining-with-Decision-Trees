{
 "cells": [
  {
   "cell_type": "code",
   "execution_count": 1,
   "metadata": {},
   "outputs": [],
   "source": [
    "import pandas as pd\n",
    "import math\n",
    "import numpy as np"
   ]
  },
  {
   "cell_type": "code",
   "execution_count": 2,
   "metadata": {},
   "outputs": [
    {
     "ename": "ImportError",
     "evalue": "Missing optional dependency 'openpyxl'.  Use pip or conda to install openpyxl.",
     "output_type": "error",
     "traceback": [
      "\u001b[1;31m---------------------------------------------------------------------------\u001b[0m",
      "\u001b[1;31mModuleNotFoundError\u001b[0m                       Traceback (most recent call last)",
      "File \u001b[1;32m~\\miniconda3\\lib\\site-packages\\pandas\\compat\\_optional.py:141\u001b[0m, in \u001b[0;36mimport_optional_dependency\u001b[1;34m(name, extra, errors, min_version)\u001b[0m\n\u001b[0;32m    140\u001b[0m \u001b[38;5;28;01mtry\u001b[39;00m:\n\u001b[1;32m--> 141\u001b[0m     module \u001b[38;5;241m=\u001b[39m \u001b[43mimportlib\u001b[49m\u001b[38;5;241;43m.\u001b[39;49m\u001b[43mimport_module\u001b[49m\u001b[43m(\u001b[49m\u001b[43mname\u001b[49m\u001b[43m)\u001b[49m\n\u001b[0;32m    142\u001b[0m \u001b[38;5;28;01mexcept\u001b[39;00m \u001b[38;5;167;01mImportError\u001b[39;00m:\n",
      "File \u001b[1;32m~\\miniconda3\\lib\\importlib\\__init__.py:127\u001b[0m, in \u001b[0;36mimport_module\u001b[1;34m(name, package)\u001b[0m\n\u001b[0;32m    126\u001b[0m         level \u001b[38;5;241m+\u001b[39m\u001b[38;5;241m=\u001b[39m \u001b[38;5;241m1\u001b[39m\n\u001b[1;32m--> 127\u001b[0m \u001b[38;5;28;01mreturn\u001b[39;00m \u001b[43m_bootstrap\u001b[49m\u001b[38;5;241;43m.\u001b[39;49m\u001b[43m_gcd_import\u001b[49m\u001b[43m(\u001b[49m\u001b[43mname\u001b[49m\u001b[43m[\u001b[49m\u001b[43mlevel\u001b[49m\u001b[43m:\u001b[49m\u001b[43m]\u001b[49m\u001b[43m,\u001b[49m\u001b[43m \u001b[49m\u001b[43mpackage\u001b[49m\u001b[43m,\u001b[49m\u001b[43m \u001b[49m\u001b[43mlevel\u001b[49m\u001b[43m)\u001b[49m\n",
      "File \u001b[1;32m<frozen importlib._bootstrap>:1030\u001b[0m, in \u001b[0;36m_gcd_import\u001b[1;34m(name, package, level)\u001b[0m\n",
      "File \u001b[1;32m<frozen importlib._bootstrap>:1007\u001b[0m, in \u001b[0;36m_find_and_load\u001b[1;34m(name, import_)\u001b[0m\n",
      "File \u001b[1;32m<frozen importlib._bootstrap>:984\u001b[0m, in \u001b[0;36m_find_and_load_unlocked\u001b[1;34m(name, import_)\u001b[0m\n",
      "\u001b[1;31mModuleNotFoundError\u001b[0m: No module named 'openpyxl'",
      "\nDuring handling of the above exception, another exception occurred:\n",
      "\u001b[1;31mImportError\u001b[0m                               Traceback (most recent call last)",
      "Cell \u001b[1;32mIn [2], line 1\u001b[0m\n\u001b[1;32m----> 1\u001b[0m data \u001b[38;5;241m=\u001b[39m \u001b[43mpd\u001b[49m\u001b[38;5;241;43m.\u001b[39;49m\u001b[43mread_excel\u001b[49m\u001b[43m(\u001b[49m\u001b[38;5;124;43m'\u001b[39;49m\u001b[38;5;124;43mfile.xlsx\u001b[39;49m\u001b[38;5;124;43m'\u001b[39;49m\u001b[43m)\u001b[49m\n\u001b[0;32m      2\u001b[0m data\u001b[38;5;241m.\u001b[39mhead()\n",
      "File \u001b[1;32m~\\miniconda3\\lib\\site-packages\\pandas\\util\\_decorators.py:211\u001b[0m, in \u001b[0;36mdeprecate_kwarg.<locals>._deprecate_kwarg.<locals>.wrapper\u001b[1;34m(*args, **kwargs)\u001b[0m\n\u001b[0;32m    209\u001b[0m     \u001b[38;5;28;01melse\u001b[39;00m:\n\u001b[0;32m    210\u001b[0m         kwargs[new_arg_name] \u001b[38;5;241m=\u001b[39m new_arg_value\n\u001b[1;32m--> 211\u001b[0m \u001b[38;5;28;01mreturn\u001b[39;00m func(\u001b[38;5;241m*\u001b[39margs, \u001b[38;5;241m*\u001b[39m\u001b[38;5;241m*\u001b[39mkwargs)\n",
      "File \u001b[1;32m~\\miniconda3\\lib\\site-packages\\pandas\\util\\_decorators.py:331\u001b[0m, in \u001b[0;36mdeprecate_nonkeyword_arguments.<locals>.decorate.<locals>.wrapper\u001b[1;34m(*args, **kwargs)\u001b[0m\n\u001b[0;32m    325\u001b[0m \u001b[38;5;28;01mif\u001b[39;00m \u001b[38;5;28mlen\u001b[39m(args) \u001b[38;5;241m>\u001b[39m num_allow_args:\n\u001b[0;32m    326\u001b[0m     warnings\u001b[38;5;241m.\u001b[39mwarn(\n\u001b[0;32m    327\u001b[0m         msg\u001b[38;5;241m.\u001b[39mformat(arguments\u001b[38;5;241m=\u001b[39m_format_argument_list(allow_args)),\n\u001b[0;32m    328\u001b[0m         \u001b[38;5;167;01mFutureWarning\u001b[39;00m,\n\u001b[0;32m    329\u001b[0m         stacklevel\u001b[38;5;241m=\u001b[39mfind_stack_level(),\n\u001b[0;32m    330\u001b[0m     )\n\u001b[1;32m--> 331\u001b[0m \u001b[38;5;28;01mreturn\u001b[39;00m func(\u001b[38;5;241m*\u001b[39margs, \u001b[38;5;241m*\u001b[39m\u001b[38;5;241m*\u001b[39mkwargs)\n",
      "File \u001b[1;32m~\\miniconda3\\lib\\site-packages\\pandas\\io\\excel\\_base.py:482\u001b[0m, in \u001b[0;36mread_excel\u001b[1;34m(io, sheet_name, header, names, index_col, usecols, squeeze, dtype, engine, converters, true_values, false_values, skiprows, nrows, na_values, keep_default_na, na_filter, verbose, parse_dates, date_parser, thousands, decimal, comment, skipfooter, convert_float, mangle_dupe_cols, storage_options)\u001b[0m\n\u001b[0;32m    480\u001b[0m \u001b[38;5;28;01mif\u001b[39;00m \u001b[38;5;129;01mnot\u001b[39;00m \u001b[38;5;28misinstance\u001b[39m(io, ExcelFile):\n\u001b[0;32m    481\u001b[0m     should_close \u001b[38;5;241m=\u001b[39m \u001b[38;5;28;01mTrue\u001b[39;00m\n\u001b[1;32m--> 482\u001b[0m     io \u001b[38;5;241m=\u001b[39m \u001b[43mExcelFile\u001b[49m\u001b[43m(\u001b[49m\u001b[43mio\u001b[49m\u001b[43m,\u001b[49m\u001b[43m \u001b[49m\u001b[43mstorage_options\u001b[49m\u001b[38;5;241;43m=\u001b[39;49m\u001b[43mstorage_options\u001b[49m\u001b[43m,\u001b[49m\u001b[43m \u001b[49m\u001b[43mengine\u001b[49m\u001b[38;5;241;43m=\u001b[39;49m\u001b[43mengine\u001b[49m\u001b[43m)\u001b[49m\n\u001b[0;32m    483\u001b[0m \u001b[38;5;28;01melif\u001b[39;00m engine \u001b[38;5;129;01mand\u001b[39;00m engine \u001b[38;5;241m!=\u001b[39m io\u001b[38;5;241m.\u001b[39mengine:\n\u001b[0;32m    484\u001b[0m     \u001b[38;5;28;01mraise\u001b[39;00m \u001b[38;5;167;01mValueError\u001b[39;00m(\n\u001b[0;32m    485\u001b[0m         \u001b[38;5;124m\"\u001b[39m\u001b[38;5;124mEngine should not be specified when passing \u001b[39m\u001b[38;5;124m\"\u001b[39m\n\u001b[0;32m    486\u001b[0m         \u001b[38;5;124m\"\u001b[39m\u001b[38;5;124man ExcelFile - ExcelFile already has the engine set\u001b[39m\u001b[38;5;124m\"\u001b[39m\n\u001b[0;32m    487\u001b[0m     )\n",
      "File \u001b[1;32m~\\miniconda3\\lib\\site-packages\\pandas\\io\\excel\\_base.py:1695\u001b[0m, in \u001b[0;36mExcelFile.__init__\u001b[1;34m(self, path_or_buffer, engine, storage_options)\u001b[0m\n\u001b[0;32m   1692\u001b[0m \u001b[38;5;28mself\u001b[39m\u001b[38;5;241m.\u001b[39mengine \u001b[38;5;241m=\u001b[39m engine\n\u001b[0;32m   1693\u001b[0m \u001b[38;5;28mself\u001b[39m\u001b[38;5;241m.\u001b[39mstorage_options \u001b[38;5;241m=\u001b[39m storage_options\n\u001b[1;32m-> 1695\u001b[0m \u001b[38;5;28mself\u001b[39m\u001b[38;5;241m.\u001b[39m_reader \u001b[38;5;241m=\u001b[39m \u001b[38;5;28;43mself\u001b[39;49m\u001b[38;5;241;43m.\u001b[39;49m\u001b[43m_engines\u001b[49m\u001b[43m[\u001b[49m\u001b[43mengine\u001b[49m\u001b[43m]\u001b[49m\u001b[43m(\u001b[49m\u001b[38;5;28;43mself\u001b[39;49m\u001b[38;5;241;43m.\u001b[39;49m\u001b[43m_io\u001b[49m\u001b[43m,\u001b[49m\u001b[43m \u001b[49m\u001b[43mstorage_options\u001b[49m\u001b[38;5;241;43m=\u001b[39;49m\u001b[43mstorage_options\u001b[49m\u001b[43m)\u001b[49m\n",
      "File \u001b[1;32m~\\miniconda3\\lib\\site-packages\\pandas\\io\\excel\\_openpyxl.py:556\u001b[0m, in \u001b[0;36mOpenpyxlReader.__init__\u001b[1;34m(self, filepath_or_buffer, storage_options)\u001b[0m\n\u001b[0;32m    541\u001b[0m \u001b[38;5;129m@doc\u001b[39m(storage_options\u001b[38;5;241m=\u001b[39m_shared_docs[\u001b[38;5;124m\"\u001b[39m\u001b[38;5;124mstorage_options\u001b[39m\u001b[38;5;124m\"\u001b[39m])\n\u001b[0;32m    542\u001b[0m \u001b[38;5;28;01mdef\u001b[39;00m \u001b[38;5;21m__init__\u001b[39m(\n\u001b[0;32m    543\u001b[0m     \u001b[38;5;28mself\u001b[39m,\n\u001b[0;32m    544\u001b[0m     filepath_or_buffer: FilePath \u001b[38;5;241m|\u001b[39m ReadBuffer[\u001b[38;5;28mbytes\u001b[39m],\n\u001b[0;32m    545\u001b[0m     storage_options: StorageOptions \u001b[38;5;241m=\u001b[39m \u001b[38;5;28;01mNone\u001b[39;00m,\n\u001b[0;32m    546\u001b[0m ) \u001b[38;5;241m-\u001b[39m\u001b[38;5;241m>\u001b[39m \u001b[38;5;28;01mNone\u001b[39;00m:\n\u001b[0;32m    547\u001b[0m     \u001b[38;5;124;03m\"\"\"\u001b[39;00m\n\u001b[0;32m    548\u001b[0m \u001b[38;5;124;03m    Reader using openpyxl engine.\u001b[39;00m\n\u001b[0;32m    549\u001b[0m \n\u001b[1;32m   (...)\u001b[0m\n\u001b[0;32m    554\u001b[0m \u001b[38;5;124;03m    {storage_options}\u001b[39;00m\n\u001b[0;32m    555\u001b[0m \u001b[38;5;124;03m    \"\"\"\u001b[39;00m\n\u001b[1;32m--> 556\u001b[0m     \u001b[43mimport_optional_dependency\u001b[49m\u001b[43m(\u001b[49m\u001b[38;5;124;43m\"\u001b[39;49m\u001b[38;5;124;43mopenpyxl\u001b[39;49m\u001b[38;5;124;43m\"\u001b[39;49m\u001b[43m)\u001b[49m\n\u001b[0;32m    557\u001b[0m     \u001b[38;5;28msuper\u001b[39m()\u001b[38;5;241m.\u001b[39m\u001b[38;5;21m__init__\u001b[39m(filepath_or_buffer, storage_options\u001b[38;5;241m=\u001b[39mstorage_options)\n",
      "File \u001b[1;32m~\\miniconda3\\lib\\site-packages\\pandas\\compat\\_optional.py:144\u001b[0m, in \u001b[0;36mimport_optional_dependency\u001b[1;34m(name, extra, errors, min_version)\u001b[0m\n\u001b[0;32m    142\u001b[0m \u001b[38;5;28;01mexcept\u001b[39;00m \u001b[38;5;167;01mImportError\u001b[39;00m:\n\u001b[0;32m    143\u001b[0m     \u001b[38;5;28;01mif\u001b[39;00m errors \u001b[38;5;241m==\u001b[39m \u001b[38;5;124m\"\u001b[39m\u001b[38;5;124mraise\u001b[39m\u001b[38;5;124m\"\u001b[39m:\n\u001b[1;32m--> 144\u001b[0m         \u001b[38;5;28;01mraise\u001b[39;00m \u001b[38;5;167;01mImportError\u001b[39;00m(msg)\n\u001b[0;32m    145\u001b[0m     \u001b[38;5;28;01melse\u001b[39;00m:\n\u001b[0;32m    146\u001b[0m         \u001b[38;5;28;01mreturn\u001b[39;00m \u001b[38;5;28;01mNone\u001b[39;00m\n",
      "\u001b[1;31mImportError\u001b[0m: Missing optional dependency 'openpyxl'.  Use pip or conda to install openpyxl."
     ]
    }
   ],
   "source": [
    "data = pd.read_excel('file.xlsx')\n",
    "data.head()"
   ]
  },
  {
   "cell_type": "code",
   "execution_count": 204,
   "metadata": {},
   "outputs": [],
   "source": [
    "def entropy(data,feat):#entropy function\n",
    "    values = pd.unique(data[feat])\n",
    "    count = data[feat].value_counts()\n",
    "    total = data[feat].count()\n",
    "    sum = 0\n",
    "    for i in values:\n",
    "        if total!=0:\n",
    "            sum = sum -((count[i]/total)*math.log(count[i]/total, 2))\n",
    "    \n",
    "    return sum\n",
    "\n",
    "def conEntropy(data,feat,value): #entropy function\n",
    "    values = pd.unique(data[feat].where(data[feat]==value))\n",
    "    count = data[feat].where(data[feat]==value).value_counts()\n",
    "    total = data[feat].where(data[feat]==value).count()\n",
    "    sum = 0\n",
    "    for i in values:\n",
    "        if total!=0:\n",
    "            sum = sum -((count[i]/total)*math.log(count[i]/total, 2))\n",
    "\n",
    "    return sum\n",
    "\n"
   ]
  },
  {
   "cell_type": "code",
   "execution_count": 53,
   "metadata": {},
   "outputs": [],
   "source": [
    "def con_prob(data, target, con_value, value):# conditoinal prob function\n",
    "    total = data[target].count()\n",
    "    cond = data[target].where(data[con_value]==value).count()\n",
    "    prob = cond/total\n",
    "\n",
    "    return prob "
   ]
  },
  {
   "cell_type": "code",
   "execution_count": 201,
   "metadata": {},
   "outputs": [],
   "source": [
    "def rootNode(data, target_feat, visited_cols): #find root node\n",
    "    columns = visited_cols\n",
    "    col_gain = {}\n",
    "\n",
    "    target_en = entropy(data,target_feat) # entorpy of target\n",
    "    print(\"Target En\",target_en)\n",
    "\n",
    "    for col in visited_cols.keys():\n",
    "        if visited_cols[col]==True:\n",
    "            continue;\n",
    "        print(\"Colums =>\",col)\n",
    "    \n",
    "        entropy_val = target_en\n",
    "        print(\"Unique Values in column: \", col,\" = \",pd.unique(data[col]) )\n",
    "        for v in pd.unique(data[col]):\n",
    "            sub_data = data.where(data[col] == v).dropna()\n",
    "            prob = con_prob(data, target_feat, col, v)\n",
    "            en = entropy(sub_data, target_feat)\n",
    "            entropy_val = entropy_val - prob*en\n",
    "\n",
    "        col_gain[col] = entropy_val\n",
    "        # print(entropy_val)\n",
    "        \n",
    "    root = max(col_gain, key=col_gain.get)\n",
    "    # columns[root] = True\n",
    "    # print(sorted_dict)\n",
    "    return root, columns\n",
    "\n",
    "    "
   ]
  },
  {
   "cell_type": "code",
   "execution_count": 188,
   "metadata": {},
   "outputs": [],
   "source": [
    "#node class\n",
    "class Node():\n",
    "    def __init__(self,name):\n",
    "        self.name = name\n",
    "        self.dict = {}    \n",
    "        # self.parent_node = None    \n",
    "    def initialize_dict(self,values):\n",
    "        # print(\"B1\")\n",
    "        for i in values:\n",
    "            self.dict[i] = False\n",
    "        # print(\"B2\")\n",
    "        \n",
    "        # print(self.dict)\n",
    "    def update_dict(self, val, child):\n",
    "        if self.dict[val] is False:\n",
    "            self.dict[val] = child\n",
    "        else:\n",
    "            print(\"Occupied\")\n",
    "        print(self.dict)\n",
    "    \n",
    "    def all_false(self):\n",
    "        if False not in self.dict.values():\n",
    "            return True\n",
    "        return False\n",
    "        \n",
    "\n",
    "# v = [\"A\",\"B\",\"C\"]\n",
    "\n",
    "# root_node = Node(\"Outlook\")\n",
    "# root_node.initialize_dict(v)\n",
    "# root_node.update_dict(\"A\", Node(\"X1\"))\n",
    "# print(root_node.all_false())\n",
    "# root_node.update_dict(\"B\", Node(\"X2\"))\n",
    "# print(root_node.all_false())\n",
    "# root_node.update_dict(\"C\", Node(\"X3\"))\n",
    "# print(root_node.all_false())\n",
    "# root_node.update_dict(\"C\", Node(\"X4\"))\n",
    "\n"
   ]
  },
  {
   "cell_type": "code",
   "execution_count": 178,
   "metadata": {},
   "outputs": [],
   "source": [
    "def leaf_node(data, parent, tar, v, root):\n",
    "    sub_data = data[tar].where(data[parent]==v).dropna()\n",
    "    if len(pd.unique(sub_data))==1:\n",
    "        root.update_dict(v, sub_data.value_counts().index[0])\n",
    "    "
   ]
  },
  {
   "cell_type": "code",
   "execution_count": 197,
   "metadata": {},
   "outputs": [],
   "source": [
    "#construct the tree\n",
    "def construct_tree(data, visited_cols, parent):\n",
    "    # print(parent)\n",
    "    root = Node(parent)\n",
    "    # root.parent_node = None\n",
    "\n",
    "    # print(\"A1\", root.name)\n",
    "    root.initialize_dict(pd.unique(data[parent]))\n",
    "    dict = root.dict\n",
    "    # print(\"A\")\n",
    "    # print(dict)\n",
    "    for v in dict.keys():\n",
    "        print(\"VVVVVVVVVVVVV:\", v)\n",
    "        if leaf_node(data, parent, \"Decision\",v,root):\n",
    "            continue;\n",
    "        # else:\n",
    "        #     rootNode(data,)\n",
    "        \n",
    "\n",
    "    # print(\"A2\")\n",
    "    # for col in visited_cols.keys():\n",
    "    #     if visited_cols[col]==True:\n",
    "    #         continue\n",
    "        \n",
    "\n",
    "    \n"
   ]
  },
  {
   "cell_type": "code",
   "execution_count": 205,
   "metadata": {},
   "outputs": [],
   "source": [
    "def nonRootNode(data, tar_feat, value, visited_cols): #find root node\n",
    "    columns = visited_cols\n",
    "    col_gain = {}\n",
    "\n",
    "    target_en = entropy(data,tar_feat,value) # entorpy of target\n",
    "    print(\"Target En\",target_en)\n",
    "\n",
    "    for col in visited_cols.keys():\n",
    "        if visited_cols[col]==True:\n",
    "            continue;\n",
    "        print(\"Colums =>\",col)\n",
    "    \n",
    "        entropy_val = target_en\n",
    "        print(\"Unique Values in column: \", col,\" = \",pd.unique(data[col]) )\n",
    "        for v in pd.unique(data[col]):\n",
    "            sub_data = data.where(data[col] == v).dropna()\n",
    "            prob = con_prob(data, tar_feat, col, v)\n",
    "            en = entropy(sub_data, tar_feat)\n",
    "            entropy_val = entropy_val - prob*en\n",
    "\n",
    "        col_gain[col] = entropy_val\n",
    "        # print(entropy_val)\n",
    "        \n",
    "    root = max(col_gain, key=col_gain.get)\n",
    "    # columns[root] = True\n",
    "    # print(sorted_dict)\n",
    "    return root, columns"
   ]
  },
  {
   "cell_type": "code",
   "execution_count": 202,
   "metadata": {},
   "outputs": [
    {
     "name": "stdout",
     "output_type": "stream",
     "text": [
      "Visited List :  {'Outlook': False, 'Temp.': False, 'Humidity': False, 'Wind': False}\n",
      "Target En 0.9402859586706309\n",
      "Colums => Outlook\n",
      "Unique Values in column:  Outlook  =  ['Sunny' 'Overcast' 'Rain']\n",
      "Colums => Temp.\n",
      "Unique Values in column:  Temp.  =  ['Hot' 'Mild' 'Cool']\n",
      "Colums => Humidity\n",
      "Unique Values in column:  Humidity  =  ['High' 'Normal']\n",
      "Colums => Wind\n",
      "Unique Values in column:  Wind  =  ['Weak' 'Strong']\n",
      "RootNode: Outlook\n",
      "Visited List :  {'Outlook': False, 'Temp.': False, 'Humidity': False, 'Wind': False}\n",
      "VVVVVVVVVVVVV: Sunny\n",
      "VVVVVVVVVVVVV: Overcast\n",
      "{'Sunny': False, 'Overcast': 'Yes', 'Rain': False}\n",
      "VVVVVVVVVVVVV: Rain\n"
     ]
    }
   ],
   "source": [
    "#find the root node\n",
    "cols = data.columns\n",
    "cols = cols[1:-1]\n",
    "visited_cols = {}\n",
    "for i in cols:\n",
    "    visited_cols[i] = False\n",
    "visited_cols #list of all features\n",
    "\n",
    "target_feat = \"Decision\"\n",
    "print(\"Visited List : \", visited_cols)\n",
    "root_node, visited_cols = rootNode(data, target_feat, visited_cols)\n",
    "print(\"RootNode:\",root_node)\n",
    "print(\"Visited List : \", visited_cols)\n",
    "\n",
    "construct_tree(data, visited_cols, root_node)\n",
    "\n",
    "\n"
   ]
  }
 ],
 "metadata": {
  "kernelspec": {
   "display_name": "Python 3",
   "language": "python",
   "name": "python3"
  },
  "language_info": {
   "codemirror_mode": {
    "name": "ipython",
    "version": 3
   },
   "file_extension": ".py",
   "mimetype": "text/x-python",
   "name": "python",
   "nbconvert_exporter": "python",
   "pygments_lexer": "ipython3",
   "version": "3.9.12"
  },
  "vscode": {
   "interpreter": {
    "hash": "c15d9b02736746a16176d044d4d73aac82720de6e29891d091ad9ed79b3eb593"
   }
  }
 },
 "nbformat": 4,
 "nbformat_minor": 2
}
